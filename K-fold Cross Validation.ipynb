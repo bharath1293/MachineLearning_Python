{
 "cells": [
  {
   "cell_type": "markdown",
   "metadata": {
    "deletable": true,
    "editable": true
   },
   "source": [
    "In this exercise, we will be checking the r2 value for different k folds. We shall use linear regression to predict the heating load with the given features. \n",
    "X1 - Relative Compactness \n",
    "X2 - Surface Area \n",
    "X3 - Wall Area \n",
    "X4 - Roof Area \n",
    "X5 - Overall Height \n",
    "X6 - Orientation \n",
    "X7 - Glazing Area \n",
    "X8 - Glazing Area Distribution \n",
    "y1 - Heating Load "
   ]
  },
  {
   "cell_type": "code",
   "execution_count": 42,
   "metadata": {
    "collapsed": false,
    "deletable": true,
    "editable": true
   },
   "outputs": [
    {
     "data": {
      "text/html": [
       "<div>\n",
       "<style>\n",
       "    .dataframe thead tr:only-child th {\n",
       "        text-align: right;\n",
       "    }\n",
       "\n",
       "    .dataframe thead th {\n",
       "        text-align: left;\n",
       "    }\n",
       "\n",
       "    .dataframe tbody tr th {\n",
       "        vertical-align: top;\n",
       "    }\n",
       "</style>\n",
       "<table border=\"1\" class=\"dataframe\">\n",
       "  <thead>\n",
       "    <tr style=\"text-align: right;\">\n",
       "      <th></th>\n",
       "      <th>X1</th>\n",
       "      <th>X2</th>\n",
       "      <th>X3</th>\n",
       "      <th>X4</th>\n",
       "      <th>X5</th>\n",
       "      <th>X6</th>\n",
       "      <th>X7</th>\n",
       "      <th>X8</th>\n",
       "      <th>Y1</th>\n",
       "    </tr>\n",
       "  </thead>\n",
       "  <tbody>\n",
       "    <tr>\n",
       "      <th>0</th>\n",
       "      <td>0.98</td>\n",
       "      <td>514.5</td>\n",
       "      <td>294.0</td>\n",
       "      <td>110.25</td>\n",
       "      <td>7.0</td>\n",
       "      <td>2</td>\n",
       "      <td>0.0</td>\n",
       "      <td>0</td>\n",
       "      <td>15.55</td>\n",
       "    </tr>\n",
       "    <tr>\n",
       "      <th>1</th>\n",
       "      <td>0.98</td>\n",
       "      <td>514.5</td>\n",
       "      <td>294.0</td>\n",
       "      <td>110.25</td>\n",
       "      <td>7.0</td>\n",
       "      <td>3</td>\n",
       "      <td>0.0</td>\n",
       "      <td>0</td>\n",
       "      <td>15.55</td>\n",
       "    </tr>\n",
       "    <tr>\n",
       "      <th>2</th>\n",
       "      <td>0.98</td>\n",
       "      <td>514.5</td>\n",
       "      <td>294.0</td>\n",
       "      <td>110.25</td>\n",
       "      <td>7.0</td>\n",
       "      <td>4</td>\n",
       "      <td>0.0</td>\n",
       "      <td>0</td>\n",
       "      <td>15.55</td>\n",
       "    </tr>\n",
       "    <tr>\n",
       "      <th>3</th>\n",
       "      <td>0.98</td>\n",
       "      <td>514.5</td>\n",
       "      <td>294.0</td>\n",
       "      <td>110.25</td>\n",
       "      <td>7.0</td>\n",
       "      <td>5</td>\n",
       "      <td>0.0</td>\n",
       "      <td>0</td>\n",
       "      <td>15.55</td>\n",
       "    </tr>\n",
       "    <tr>\n",
       "      <th>4</th>\n",
       "      <td>0.90</td>\n",
       "      <td>563.5</td>\n",
       "      <td>318.5</td>\n",
       "      <td>122.50</td>\n",
       "      <td>7.0</td>\n",
       "      <td>2</td>\n",
       "      <td>0.0</td>\n",
       "      <td>0</td>\n",
       "      <td>20.84</td>\n",
       "    </tr>\n",
       "  </tbody>\n",
       "</table>\n",
       "</div>"
      ],
      "text/plain": [
       "     X1     X2     X3      X4   X5  X6   X7  X8     Y1\n",
       "0  0.98  514.5  294.0  110.25  7.0   2  0.0   0  15.55\n",
       "1  0.98  514.5  294.0  110.25  7.0   3  0.0   0  15.55\n",
       "2  0.98  514.5  294.0  110.25  7.0   4  0.0   0  15.55\n",
       "3  0.98  514.5  294.0  110.25  7.0   5  0.0   0  15.55\n",
       "4  0.90  563.5  318.5  122.50  7.0   2  0.0   0  20.84"
      ]
     },
     "execution_count": 42,
     "metadata": {},
     "output_type": "execute_result"
    }
   ],
   "source": [
    "import pandas as pd\n",
    "\n",
    "load_data = pd.read_excel(\"C:/Users/Bharath/Desktop/ML/L00144389/Data/ENB2012_data.xlsx\")\n",
    "load_data.head()"
   ]
  },
  {
   "cell_type": "markdown",
   "metadata": {
    "deletable": true,
    "editable": true
   },
   "source": [
    "Now we shall assign X1, X2, X3, X4, X5, X6, X7 and X8 as the training data sets and Y1 as the data to be predicted."
   ]
  },
  {
   "cell_type": "code",
   "execution_count": 43,
   "metadata": {
    "collapsed": false,
    "deletable": true,
    "editable": true
   },
   "outputs": [],
   "source": [
    "train = load_data[['X1', 'X2', 'X3', 'X4', 'X5', 'X6', 'X7', 'X8']]\n",
    "predict = load_data[['Y1']]"
   ]
  },
  {
   "cell_type": "markdown",
   "metadata": {
    "deletable": true,
    "editable": true
   },
   "source": [
    "Linear Regression Library is imported from sklearn.linear_model"
   ]
  },
  {
   "cell_type": "code",
   "execution_count": 44,
   "metadata": {
    "collapsed": false,
    "deletable": true,
    "editable": true
   },
   "outputs": [
    {
     "data": {
      "text/plain": [
       "LinearRegression(copy_X=True, fit_intercept=True, n_jobs=1, normalize=False)"
      ]
     },
     "execution_count": 44,
     "metadata": {},
     "output_type": "execute_result"
    }
   ],
   "source": [
    "from sklearn.linear_model import LinearRegression\n",
    "\n",
    "LR = LinearRegression()\n",
    "LR.fit(train, predict)"
   ]
  },
  {
   "cell_type": "markdown",
   "metadata": {
    "deletable": true,
    "editable": true
   },
   "source": [
    "Now 'cross validation' function is imported from sklearn to predict the r2 value with different k values"
   ]
  },
  {
   "cell_type": "code",
   "execution_count": 45,
   "metadata": {
    "collapsed": false,
    "deletable": true,
    "editable": true
   },
   "outputs": [
    {
     "name": "stdout",
     "output_type": "stream",
     "text": [
      "[ -0.16936539   0.19127596   0.87515186  -0.2824047    0.92239816\n",
      "   0.11515458   0.915921   -32.48587481   0.86942947  -0.42349088]\n",
      "-2.9471804747\n"
     ]
    }
   ],
   "source": [
    "from sklearn import cross_validation\n",
    "\n",
    "r2_1 = cross_validation.cross_val_score(LR, train, predict.values.ravel(), cv=10, scoring='r2')\n",
    "\n",
    "print(r2_1)\n",
    "print(r2_1.mean())"
   ]
  },
  {
   "cell_type": "code",
   "execution_count": 46,
   "metadata": {
    "collapsed": false,
    "deletable": true,
    "editable": true
   },
   "outputs": [
    {
     "name": "stdout",
     "output_type": "stream",
     "text": [
      "[  2.10911488e-02  -2.07247311e+00   4.64107738e-02  -3.02686034e+00\n",
      "  -2.07207160e+02  -1.80052946e+01   2.97954015e-01  -1.72958567e+00\n",
      "  -3.57661186e-01  -1.06229942e+00  -3.99400632e+01  -2.56300098e+01\n",
      "   9.97615371e-01  -1.82719879e+01  -8.31968002e+01  -7.40944402e-01\n",
      "  -1.15133378e+00   9.33133119e-01  -4.83687634e-01  -8.69137647e+00]\n",
      "-20.4635666818\n"
     ]
    }
   ],
   "source": [
    "r2_2 = cross_validation.cross_val_score(LR, train, predict.values.ravel(), cv=20, scoring='r2')\n",
    "\n",
    "print(r2_2)\n",
    "print(r2_2.mean())"
   ]
  },
  {
   "cell_type": "code",
   "execution_count": 47,
   "metadata": {
    "collapsed": false,
    "deletable": true,
    "editable": true
   },
   "outputs": [
    {
     "name": "stdout",
     "output_type": "stream",
     "text": [
      "[ -2.87610689e+30   7.24931056e-01  -1.15326768e+00  -4.11067661e+00\n",
      "  -8.93719788e+02   5.33974910e-02  -5.61134822e+00  -1.01992834e+02\n",
      "  -7.13369841e+03  -7.41118563e+01  -1.46769713e+01  -1.48819258e+03\n",
      "  -7.15395284e+02  -7.44998654e-01  -3.64802760e+00  -3.22560262e+02\n",
      "  -2.36665050e+03  -4.28121172e-01  -1.85636222e+00   1.19504777e-01\n",
      "  -5.23016753e+02  -8.27624487e-02  -1.35619172e+01  -2.52247431e+00\n",
      "  -9.07902685e+00  -2.66285551e+01  -4.16355834e+01  -2.53943879e+03\n",
      "  -7.60447261e+04   3.32076442e-01  -1.34106425e+02  -1.32406722e+00\n",
      "  -1.29737074e+04   9.41575995e-01   5.75864332e-01   6.22714536e-01\n",
      "  -4.04973675e+01  -1.70321710e-01  -1.27546089e+00  -3.01306109e+01]\n",
      "-7.19026722995e+28\n"
     ]
    }
   ],
   "source": [
    "r2_3 = cross_validation.cross_val_score(LR, train, predict.values.ravel(), cv=40, scoring='r2')\n",
    "\n",
    "print(r2_3)\n",
    "print(r2_3.mean())"
   ]
  },
  {
   "cell_type": "markdown",
   "metadata": {
    "deletable": true,
    "editable": true
   },
   "source": [
    "Thus we were able to see that the r2 values gets changed with different k values"
   ]
  }
 ],
 "metadata": {
  "kernelspec": {
   "display_name": "Python 3",
   "language": "python",
   "name": "python3"
  },
  "language_info": {
   "codemirror_mode": {
    "name": "ipython",
    "version": 3
   },
   "file_extension": ".py",
   "mimetype": "text/x-python",
   "name": "python",
   "nbconvert_exporter": "python",
   "pygments_lexer": "ipython3",
   "version": "3.5.2"
  }
 },
 "nbformat": 4,
 "nbformat_minor": 2
}
